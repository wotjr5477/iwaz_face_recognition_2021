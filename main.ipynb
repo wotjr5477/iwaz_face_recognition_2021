{
 "cells": [
  {
   "cell_type": "code",
   "execution_count": null,
   "id": "e9daf695",
   "metadata": {},
   "outputs": [],
   "source": [
    "# opencv 설치\n",
    "# >> pip install opencv-python\n",
    "\n",
    "# cmake 설치\n",
    "# >> pip install cmake\n",
    "# cmake : http://cmake.org/download\n",
    "\n",
    "# dlib 설치\n",
    "# >> pip install dlib\n",
    "# dlib : http://dlib.net\n",
    "# visual studio C++ 오류 > visual studio 설치 : https://visualstudio.microsoft.com/ko/visual-cpp-build-tools/\n",
    "## 강제로 최신(19.22) dlib 설치 >> 이걸로 함;;\n",
    "## >> conda install -c conda-forge dlib=19.22\n",
    "\n",
    "#OpenCV 를 위한 #파이썬 #라이브러리 #cv2 및  #dlib 설치방법\n",
    "#cmake : http://cmake.org/download\n",
    "#dlib : http://dlib.net\n",
    "\n",
    "pip conda 이용한 설치 명령어\n",
    "pip install opencv-python\n",
    "\n",
    "빌드 \n",
    "python setup.py build\n",
    "python setup.py install"
   ]
  },
  {
   "cell_type": "code",
   "execution_count": 1,
   "id": "ef5507ab",
   "metadata": {},
   "outputs": [],
   "source": [
    "import cv2\n",
    "import numpy"
   ]
  },
  {
   "cell_type": "code",
   "execution_count": 2,
   "id": "99bf952b",
   "metadata": {},
   "outputs": [],
   "source": [
    "import dlib"
   ]
  },
  {
   "cell_type": "code",
   "execution_count": 3,
   "id": "043def42",
   "metadata": {},
   "outputs": [
    {
     "name": "stdout",
     "output_type": "stream",
     "text": [
      "4.5.3\n"
     ]
    }
   ],
   "source": [
    "print(cv2.__version__)"
   ]
  },
  {
   "cell_type": "code",
   "execution_count": 4,
   "id": "3a6ed25d",
   "metadata": {},
   "outputs": [
    {
     "name": "stdout",
     "output_type": "stream",
     "text": [
      "19.22.0\n"
     ]
    }
   ],
   "source": [
    "print(dlib.__version__)"
   ]
  },
  {
   "cell_type": "code",
   "execution_count": 5,
   "id": "76383d82-4142-4893-bc64-c8201850991a",
   "metadata": {},
   "outputs": [],
   "source": [
    "#!pip install face_recognition"
   ]
  },
  {
   "cell_type": "code",
   "execution_count": 6,
   "id": "60c1ced2-39e5-4421-84ab-7fb6521cb185",
   "metadata": {},
   "outputs": [
    {
     "data": {
      "text/plain": [
       "'C:\\\\Users\\\\CPB06GameN\\\\Python\\\\face_recognition'"
      ]
     },
     "execution_count": 6,
     "metadata": {},
     "output_type": "execute_result"
    }
   ],
   "source": [
    "import os\n",
    "os.getcwd()"
   ]
  },
  {
   "cell_type": "code",
   "execution_count": 8,
   "id": "3ce8f796-1212-47bb-b808-38dddf4b44f9",
   "metadata": {},
   "outputs": [],
   "source": [
    "import cv2\n",
    "import face_recognition\n",
    "import pickle\n",
    "\n",
    "dataset_path = [\"dataset/JB/\"] # 인식할 대상 데이터 폴더\n",
    "names = [\"JB\"] # 인식할 대상 이름 리스트\n",
    "number_images = 10\n",
    "image_type = \".jpg\"\n",
    "encoding_file = \"encodings.pickle\"\n",
    "# Either 'cnn' or 'hog'. The CNN method is more accurate but slower. HOG is faster but less accurate.\n",
    "model_method = \"cnn\"\n",
    "\n",
    "# initialize the list of known encodings and known names\n",
    "knownEncodings = []\n",
    "knownNames = []\n",
    "\n",
    "# loop over the image paths\n",
    "for (i, dataset_path) in enumerate(dataset_paths) :\n",
    "    # extract the person name from names\n",
    "    name = names[i] # 이름 먼저 가지고 오기\n",
    "    \n",
    "    for idx in range(number_image) :\n",
    "        file_name = dataset_path + str(idx+1) + image_type\n",
    "        \n",
    "        # load the input image and convert it from BGR (OpenCV ordering)\n",
    "        # to dlib ordering(=RGB)\n",
    "        image = cv2.imread(file_name)\n",
    "        rgb = cv2.cvtColor(image, cv2.COLOR_BGR2RGB) # dlib에 맞게 rgb 배열로 변경\n",
    "        \n",
    "        # detect the (x, y) - coordinates of the bounding boxes\n",
    "        # corresponding to each face in the input image\n",
    "        boxes = face_recognitioin.face_locaations(rgb, model = model_method) # 얼굴(위치)인식\n",
    "        \n",
    "        \n",
    "        \n",
    "    \n",
    "    "
   ]
  }
 ],
 "metadata": {
  "kernelspec": {
   "display_name": "Python 3",
   "language": "python",
   "name": "python3"
  },
  "language_info": {
   "codemirror_mode": {
    "name": "ipython",
    "version": 3
   },
   "file_extension": ".py",
   "mimetype": "text/x-python",
   "name": "python",
   "nbconvert_exporter": "python",
   "pygments_lexer": "ipython3",
   "version": "3.8.11"
  }
 },
 "nbformat": 4,
 "nbformat_minor": 5
}
